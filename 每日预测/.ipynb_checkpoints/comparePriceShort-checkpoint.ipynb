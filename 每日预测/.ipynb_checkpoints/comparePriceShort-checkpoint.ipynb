{
 "cells": [
  {
   "cell_type": "code",
   "execution_count": 1,
   "metadata": {},
   "outputs": [],
   "source": [
    "import pandas as pd\n",
    "import numpy as np\n",
    "import pymysql\n",
    "import datetime\n",
    "from datetime import timedelta\n",
    "from sqlalchemy import create_engine"
   ]
  },
  {
   "cell_type": "code",
   "execution_count": 2,
   "metadata": {},
   "outputs": [],
   "source": [
    "# 数据库信息\n",
    "mysql_setting = {\n",
    "    'host': '47.100.201.211',\n",
    "    'port': 3306,\n",
    "    'user': 'root',\n",
    "    'passwd': 'iyGfLR64Ne4Ddhk7',\n",
    "    # 数据库名称\n",
    "    'db': 'data',\n",
    "    'charset': 'utf8'\n",
    "}\n",
    "engine = create_engine(\"mysql+pymysql://{user}:{passwd}@{host}:{port}/{db}\".format(**mysql_setting), max_overflow=5)"
   ]
  },
  {
   "cell_type": "markdown",
   "metadata": {},
   "source": [
    "# getRealPrice"
   ]
  },
  {
   "cell_type": "code",
   "execution_count": 3,
   "metadata": {},
   "outputs": [],
   "source": [
    "def fillPrice(df):\n",
    "    # datetime.strptime() 把datetime转化为str格式\n",
    "    df['updateTime'] = df['updateTime'].apply(lambda x: x.strftime('%Y-%m-%d'))\n",
    "    df.drop_duplicates(subset='updateTime', keep='last', inplace=True)\n",
    "    date_start = df['updateTime'].min()\n",
    "    date_end = datetime.datetime.now().strftime('%Y-%m-%d')\n",
    "    #根据最小日期和最大日期，计算日期间隔，由于date_start和date_end为string类型，因此需要先更改为日期类型\n",
    "    delta = datetime.datetime.strptime(date_end, \"%Y-%m-%d\")-datetime.datetime.strptime(str(date_start), \"%Y-%m-%d\")\n",
    "    for i in range(0,delta.days+1):\n",
    "        date = (datetime.datetime.strptime(date_end, \"%Y-%m-%d\")-datetime.timedelta(days=i)).strftime('%Y-%m-%d')\n",
    "        #如果数据缺失，则补数\n",
    "        if(date not in df['updateTime'].values):\n",
    "            new_date = pd.DataFrame({'updateTime':date,'dayPrice':np.nan}, index=[0])\n",
    "            df = df.append(new_date)\n",
    "    df.sort_values(by=\"updateTime\", inplace=True, ascending=True) \n",
    "    df['dayPrice'] = df['dayPrice'].fillna(df['dayPrice'].interpolate().round(2))\n",
    "    df.reset_index(drop=True, inplace=True)\n",
    "    return df"
   ]
  },
  {
   "cell_type": "code",
   "execution_count": 4,
   "metadata": {},
   "outputs": [],
   "source": [
    "def getRealPrice(product, url, w):\n",
    "    if ('jd' in url):\n",
    "        sql_cmd = \"SELECT updateTime, dayPrice FROM data.jingdong_day_price_nineCounty where commodityUrl = %(url)s\"\n",
    "    else:\n",
    "        sql_cmd = \"SELECT updateTime, dayPrice FROM data.tianmao_day_price_nineCounty where commodityId = %(url)s\"\n",
    "    df = pd.read_sql(sql_cmd, engine, params={'url': url})\n",
    "    df.drop(index=df[df['dayPrice']<=0].index,inplace=True)\n",
    "    df.drop_duplicates(subset='updateTime', keep='last', inplace=True)\n",
    "    df = fillPrice(df)\n",
    "    df['dayPrice'] = df['dayPrice'].apply(lambda x: (x / w))\n",
    "    df['product'] = product\n",
    "    df.rename(columns={'dayPrice': 'real_price', 'updateTime': 'date'}, inplace=True)\n",
    "    newIndex = ['product', 'date', 'real_price']\n",
    "    df = df[newIndex]\n",
    "    return df"
   ]
  },
  {
   "cell_type": "code",
   "execution_count": 5,
   "metadata": {},
   "outputs": [],
   "source": [
    "result = engine.execute('TRUNCATE TABLE data.price_real_short')\n",
    "data = pd.read_csv('allProduct.csv', encoding='utf-8')\n",
    "for row in data.iterrows():\n",
    "    try:\n",
    "        table = getRealPrice(row[1]['product'], row[1]['url'], row[1]['weight'])\n",
    "        table.to_sql('price_real_short', con= engine, if_exists= 'append', index=False)\n",
    "    except:\n",
    "        print(row[1]['product'])"
   ]
  },
  {
   "cell_type": "code",
   "execution_count": 6,
   "metadata": {},
   "outputs": [],
   "source": [
    "# aa = getRealPrice('奉新大米', 'https://item.jd.com/10033573567269.html', 10)\n",
    "# aa"
   ]
  },
  {
   "cell_type": "markdown",
   "metadata": {},
   "source": [
    "# comparePrice"
   ]
  },
  {
   "cell_type": "code",
   "execution_count": 7,
   "metadata": {},
   "outputs": [],
   "source": [
    "# 清空price_real_predict_compare_short表\n",
    "# def comparePrice(product):\n",
    "#     yesterday = (datetime.datetime.now() - datetime.timedelta(days=1)).strftime('%Y-%m-%d')\n",
    "#     sql_cmd = \"SELECT * FROM price_real_short where product = %(product)s\"\n",
    "#     aa = pd.read_sql(sql_cmd, engine, params={'product': product})\n",
    "#     sql_cmd = \"SELECT * FROM price_predict_short where product = %(product)s and date = %(yesterday)s\"\n",
    "#     bb = pd.read_sql(sql_cmd, engine, params={'product': product, 'yesterday': yesterday})\n",
    "#     bb.drop(columns='date', inplace = True)\n",
    "#     bb.rename(columns={'predict_date': 'date'}, inplace=True)\n",
    "#     compareP = pd.merge(aa, bb, on=['product','date'], how='outer')\n",
    "#     compareP['predict_price'] = compareP['predict_price'].round(2)\n",
    "#     compareP['real_price'] = compareP['real_price'].round(2)\n",
    "#     return compareP\n",
    "# result = engine.execute('TRUNCATE TABLE data.price_real_predict_compare_short')\n",
    "# data = pd.read_csv('allProduct.csv', encoding='utf-8')\n",
    "# for row in data.iterrows():\n",
    "#     try:\n",
    "#         table = comparePrice(row[1]['product'])\n",
    "#         table.to_sql('price_real_predict_compare_short', con= engine, if_exists= 'append', index=False)\n",
    "#     except:\n",
    "#         print(row[1]['product'])"
   ]
  },
  {
   "cell_type": "code",
   "execution_count": 9,
   "metadata": {},
   "outputs": [],
   "source": [
    "# 数据异常时候\n",
    "# def insertNew(product):\n",
    "#     sql_cmd = \"SELECT * FROM price_real_predict_compare_short where product = %(product)s\"\n",
    "#     aa = pd.read_sql(sql_cmd, engine, params={'product': product})\n",
    "#     sql_cmd = \"SELECT * FROM price_real_short where product = %(product)s\"\n",
    "#     rr = pd.read_sql(sql_cmd, engine, params={'product': product})\n",
    "#     rr2 = rr[-12:]\n",
    "#     for row in rr2.iterrows():\n",
    "#         aa.loc[aa['date']==row[1]['date'], 'real_price'] = row[1]['real_price']\n",
    "#     for row in aa[-18:-16].iterrows():\n",
    "#         params = {'price': row[1]['real_price'], 'product': product, 'day': row[1]['date']}\n",
    "#         sql_cmd = \"UPDATE price_real_predict_compare_short SET real_price = %(price)s WHERE product = %(product)s and date = %(day)s \"\n",
    "#         res = engine.execute(sql_cmd, params)\n",
    "# data = pd.read_csv('allProduct.csv', encoding='utf-8')\n",
    "# for row in data.iterrows():\n",
    "#     try:\n",
    "#         insertNew(row[1]['product'])     \n",
    "#     except:\n",
    "#         print(row[1]['product'])      "
   ]
  },
  {
   "cell_type": "code",
   "execution_count": 4,
   "metadata": {},
   "outputs": [
    {
     "data": {
      "text/html": [
       "<div>\n",
       "<style scoped>\n",
       "    .dataframe tbody tr th:only-of-type {\n",
       "        vertical-align: middle;\n",
       "    }\n",
       "\n",
       "    .dataframe tbody tr th {\n",
       "        vertical-align: top;\n",
       "    }\n",
       "\n",
       "    .dataframe thead th {\n",
       "        text-align: right;\n",
       "    }\n",
       "</style>\n",
       "<table border=\"1\" class=\"dataframe\">\n",
       "  <thead>\n",
       "    <tr style=\"text-align: right;\">\n",
       "      <th></th>\n",
       "      <th>product</th>\n",
       "      <th>date</th>\n",
       "      <th>real_price</th>\n",
       "      <th>predict_price</th>\n",
       "    </tr>\n",
       "  </thead>\n",
       "  <tbody>\n",
       "    <tr>\n",
       "      <th>0</th>\n",
       "      <td>仙桃香米</td>\n",
       "      <td>2022-09-29</td>\n",
       "      <td>NaN</td>\n",
       "      <td>4.8</td>\n",
       "    </tr>\n",
       "  </tbody>\n",
       "</table>\n",
       "</div>"
      ],
      "text/plain": [
       "  product        date  real_price  predict_price\n",
       "0    仙桃香米  2022-09-29         NaN            4.8"
      ]
     },
     "execution_count": 4,
     "metadata": {},
     "output_type": "execute_result"
    }
   ],
   "source": [
    "def insertNew(product):\n",
    "    sql_cmd = \"SELECT * FROM price_real_predict_compare_short where product = %(product)s\"\n",
    "    aa = pd.read_sql(sql_cmd, engine, params={'product': product})\n",
    "    # 获取当天时间\n",
    "    lastday = datetime.datetime.now().strftime('%Y-%m-%d')\n",
    "    day = datetime.datetime.date(datetime.datetime.strptime(lastday, \"%Y-%m-%d\"))\n",
    "    \n",
    "    sql_cmd = \"SELECT * FROM price_real_short where product = %(product)s and date = %(date)s\"\n",
    "    rr = pd.read_sql(sql_cmd, engine, params={'product': product, 'date': lastday})\n",
    "    aa.loc[aa['date']==day, 'real_price'] = rr['real_price'].values[0]\n",
    "    \n",
    "    获取当天的实际价格\n",
    "    params = {'price': rr['real_price'].values[0], 'product': product, 'day': lastday}\n",
    "    sql_cmd = \"UPDATE price_real_predict_compare_short SET real_price = %(price)s WHERE product = %(product)s and date = %(day)s \"\n",
    "    res = engine.execute(sql_cmd, params)\n",
    "    \n",
    "    # 获取最新预测的价格，并且和之前的价格表进行concat上下连接\n",
    "    new = (datetime.datetime.now() + datetime.timedelta(days=14)).strftime('%Y-%m-%d')\n",
    "    sql_cmd = \"SELECT * FROM price_predict_short where product = %(product)s and predict_date = %(day)s\"\n",
    "    bb = pd.read_sql(sql_cmd, engine, params={'product': product, 'day': new})\n",
    "    bb.drop(columns='date', inplace = True)\n",
    "    bb.rename(columns={'predict_date': 'date'}, inplace=True)\n",
    "    cc = pd.concat([aa,bb])\n",
    "    return cc[-1:]"
   ]
  },
  {
   "cell_type": "code",
   "execution_count": null,
   "metadata": {},
   "outputs": [],
   "source": [
    "data = pd.read_csv('allProduct.csv', encoding='utf-8')\n",
    "for row in data.iterrows():\n",
    "    try:\n",
    "        table = insertNew(row[1]['product'])\n",
    "        table.to_sql('price_real_predict_compare_short', con= engine, if_exists= 'append', index=False)\n",
    "        \n",
    "    except:\n",
    "        print(row[1]['product'])"
   ]
  }
 ],
 "metadata": {
  "kernelspec": {
   "display_name": "Python 3",
   "language": "python",
   "name": "python3"
  },
  "language_info": {
   "codemirror_mode": {
    "name": "ipython",
    "version": 3
   },
   "file_extension": ".py",
   "mimetype": "text/x-python",
   "name": "python",
   "nbconvert_exporter": "python",
   "pygments_lexer": "ipython3",
   "version": "3.8.5"
  }
 },
 "nbformat": 4,
 "nbformat_minor": 4
}
