{
 "cells": [
  {
   "cell_type": "code",
   "execution_count": null,
   "metadata": {},
   "outputs": [],
   "source": []
  },
  {
   "cell_type": "code",
   "execution_count": 1,
   "metadata": {},
   "outputs": [],
   "source": [
    "import pandas as pd\n",
    "import numpy as np\n",
    "from functools import reduce\n",
    "import datetime\n",
    "from datetime import timedelta\n",
    "import pymysql\n",
    "from sqlalchemy import create_engine\n",
    "# 导入模型\n",
    "import xgboost as xgboost"
   ]
  },
  {
   "cell_type": "code",
   "execution_count": 2,
   "metadata": {},
   "outputs": [],
   "source": [
    "mysql_setting = {\n",
    "        'host': '47.100.201.211',\n",
    "        'port': 3306,\n",
    "        'user': 'root',\n",
    "        'passwd': 'iyGfLR64Ne4Ddhk7',\n",
    "        # 数据库名称\n",
    "        'db': 'data',\n",
    "        'charset': 'utf8'\n",
    "    }\n",
    "engine = create_engine(\n",
    "        \"mysql+pymysql://{user}:{passwd}@{host}:{port}/{db}\".format(\n",
    "            **mysql_setting),\n",
    "        max_overflow=5)"
   ]
  },
  {
   "cell_type": "code",
   "execution_count": 3,
   "metadata": {},
   "outputs": [],
   "source": [
    "pls = pd.read_csv('CountyProduct.csv', encoding='utf-8')\n",
    "pl = pls['product'].values\n",
    "allp = pd.read_csv('allProduct.csv', encoding='utf-8')\n",
    "plp = allp['product'].values\n",
    "# online商品建议\n",
    "advice_online = pd.DataFrame()\n",
    "advice_online['product'] = pl\n",
    "advice_online['online'] = 1\n",
    "sql_cmd = \"SELECT * FROM data.predict_online_short\"\n",
    "predict_online_short = pd.read_sql(sql_cmd, engine)\n",
    "# sql_cmd = \"SELECT * FROM data.predict_online_long\"\n",
    "# predict_online_long = pd.read_sql(sql_cmd, engine)\n",
    "\n",
    "sql_cmd = \"select * from sellerAdvice\"\n",
    "sellerAdvice = pd.read_sql(sql_cmd, engine)\n",
    "sql_cmd = \"select * from reduceAdvice\"\n",
    "reduced = pd.read_sql(sql_cmd, engine)\n",
    "sql_cmd = \"select * from riseAdvice\"\n",
    "rise = pd.read_sql(sql_cmd, engine)\n",
    "\n",
    "rel = pd.read_sql(\"select * from productRelation\", engine)"
   ]
  },
  {
   "cell_type": "code",
   "execution_count": 4,
   "metadata": {},
   "outputs": [],
   "source": [
    "# 获取所有商品涨跌幅\n",
    "all_trend = pd.DataFrame(plp, columns=['product'])\n",
    "all_trend['trend'] = ''\n",
    "for product, group in predict_online_short.groupby('product'):\n",
    "    avg = group['price'].pct_change(1)\n",
    "    all_trend.loc[all_trend['product']==product, 'trend'] = sum(avg[1:])"
   ]
  },
  {
   "cell_type": "code",
   "execution_count": 5,
   "metadata": {},
   "outputs": [],
   "source": [
    "# aa：商品名称，cpt：竞品趋势，tr：商品趋势\n",
    "def getcpAdvice(aa, cpt, tr):\n",
    "    ad = sellerAdvice.loc[sellerAdvice['product']==aa, 'Z'].values[0]\n",
    "    if tr > 0 and cpt > 0:\n",
    "        if cpt > tr:\n",
    "            ad += sellerAdvice.loc[sellerAdvice['product']==aa, 'A2'].values[0]\n",
    "        else:\n",
    "            ad += sellerAdvice.loc[sellerAdvice['product']==aa, 'A1'].values[0]\n",
    "    elif (tr <= 0 and cpt >= 0) or (cpt == 0 and tr < 0):\n",
    "        ad += sellerAdvice.loc[sellerAdvice['product']==aa, 'B'].values[0]\n",
    "    elif (tr > 0 and cpt <= 0) or (tr == 0 and cpt < 0):\n",
    "        ad += sellerAdvice.loc[sellerAdvice['product']==aa, 'C'].values[0] \n",
    "    elif tr < 0 and cpt < 0:\n",
    "        if -cpt > -tr:\n",
    "            ad += sellerAdvice.loc[sellerAdvice['product']==aa, 'D2'].values[0] \n",
    "        else:\n",
    "            ad += sellerAdvice.loc[sellerAdvice['product']==aa, 'D1'].values[0] \n",
    "    else:\n",
    "        ad += sellerAdvice.loc[sellerAdvice['product']==aa, 'E'].values[0] \n",
    "    return ad"
   ]
  },
  {
   "cell_type": "code",
   "execution_count": 6,
   "metadata": {},
   "outputs": [
    {
     "data": {
      "text/plain": [
       "'江西万年贡蟹田丝苗米在电商平台的竞争品主要来自江西省宜春市奉新县以及黑龙江省五常市、江西省井冈山市等地。江西万年贡蟹田丝苗米蟹稻共生的独特栽种方式，相比竞品有绿色自然，味道醇香的优势，且丝苗米品质较高，但品牌知名度上竞争力较弱（比如，电商平台“蟹田丝苗米”搜索结果中江西万年贡蟹田丝苗米展示不够靠前）。未来1周江西万年贡蟹田丝苗米和竞品的价格都呈现上涨趋势，江西万年贡蟹田丝苗米的价格涨幅更大，因此短期可以通过参与电商平台促销活动或者设置店铺优惠等方式进行促销，以降低涨幅过大带来的劣势；当然长期来看则是树立品牌意识，靠质量和品牌实现高价销售，着重突出蟹稻共养的绿色生态模式，强调丝苗米的口感优势，以及江西万年贡企业弘扬稻作文化的品牌理念，以体现其品质优势。'"
      ]
     },
     "execution_count": 6,
     "metadata": {},
     "output_type": "execute_result"
    }
   ],
   "source": [
    "getcpAdvice('万年贡蟹田丝苗米', 0.5, 1)"
   ]
  },
  {
   "cell_type": "code",
   "execution_count": 7,
   "metadata": {},
   "outputs": [],
   "source": [
    "cpAdvice = pd.read_csv('cpAdvice.csv', encoding='utf-8')\n",
    "for row in cpAdvice.iterrows():\n",
    "    cp1 = row[1]['cp']\n",
    "    main1 = row[1]['main']\n",
    "    if (cp1 in all_trend['product'].values and main1 in all_trend['product'].values):\n",
    "        cpTrend = all_trend.loc[all_trend['product'] == cp1, 'trend'].values[0]\n",
    "        mainTrend = all_trend.loc[all_trend['product'] == main1, 'trend'].values[0]\n",
    "        cpAdvice.loc[(cpAdvice['main'] == main1)&(cpAdvice['cp'] == cp1), 'seller advice'] = getcpAdvice(main1, cpTrend, mainTrend)"
   ]
  },
  {
   "cell_type": "code",
   "execution_count": 8,
   "metadata": {},
   "outputs": [],
   "source": [
    "# consumer and farmer advice\n",
    "advicelist = pd.DataFrame(pl, columns=['product'])\n",
    "for i in pl: # i是示范县商品\n",
    "    trend = all_trend.loc[all_trend['product']==i, 'trend'].values[0]\n",
    "    if trend <= 0:\n",
    "        advicelist.loc[advicelist['product']==i, 'consumer advice'] = reduced.loc[reduced['product']==i]['consumer advice'].values[0]\n",
    "        advicelist.loc[advicelist['product']==i, 'farmer advice'] = reduced.loc[reduced['product']==i]['farmer advicce'].values[0]\n",
    "    else:\n",
    "        advicelist.loc[advicelist['product']==i, 'consumer advice'] = rise.loc[rise['product']==i]['consumer advice'].values[0]\n",
    "        advicelist.loc[advicelist['product']==i, 'farmer advice'] = rise.loc[rise['product']==i]['farmer advice'].values[0]       "
   ]
  },
  {
   "cell_type": "code",
   "execution_count": 9,
   "metadata": {},
   "outputs": [],
   "source": [
    "engine.execute('TRUNCATE TABLE data.predictAdvice1')\n",
    "engine.execute('TRUNCATE TABLE data.predictAdvice2')\n",
    "advicelist.to_sql('predictAdvice1', con= engine, if_exists= 'append', index=False)\n",
    "cpAdvice.to_sql('predictAdvice2', con= engine, if_exists= 'append', index=False)"
   ]
  },
  {
   "cell_type": "code",
   "execution_count": 43,
   "metadata": {},
   "outputs": [],
   "source": [
    "# url = 'https://detail.tmall.com/item.htm?spm=a230r.1.14.115.17e94a8dbcg6p8&id=626285412571&ns=1&abbucket=6&skuId=4916649139293'\n",
    "# sql_cmd = \"SELECT updateTime, dayPrice FROM data.tianmao_day_price_nineCounty where commodityId = %(url)s\"\n",
    "# df = pd.read_sql(sql_cmd, engine, params={'url': url})"
   ]
  }
 ],
 "metadata": {
  "kernelspec": {
   "display_name": "Python 3",
   "language": "python",
   "name": "python3"
  },
  "language_info": {
   "codemirror_mode": {
    "name": "ipython",
    "version": 3
   },
   "file_extension": ".py",
   "mimetype": "text/x-python",
   "name": "python",
   "nbconvert_exporter": "python",
   "pygments_lexer": "ipython3",
   "version": "3.8.5"
  }
 },
 "nbformat": 4,
 "nbformat_minor": 4
}
