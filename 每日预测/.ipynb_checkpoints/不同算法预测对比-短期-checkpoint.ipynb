{
 "cells": [
  {
   "cell_type": "code",
   "execution_count": 47,
   "metadata": {},
   "outputs": [],
   "source": [
    "import pandas as pd\n",
    "import numpy as np\n",
    "from functools import reduce\n",
    "import datetime\n",
    "from datetime import timedelta\n",
    "import pymysql\n",
    "from sqlalchemy import create_engine\n",
    "# 导入模型\n",
    "import xgboost as xgb\n",
    "#模型调参的工具\n",
    "from sklearn.model_selection import cross_val_score,KFold\n",
    "from sklearn.model_selection import GridSearchCV\n",
    "from boruta import BorutaPy\n",
    "from sklearn.ensemble import RandomForestRegressor\n",
    "#Error metrics\n",
    "from sklearn.metrics import mean_squared_error, r2_score\n",
    "import matplotlib.pylab as plt"
   ]
  },
  {
   "cell_type": "code",
   "execution_count": 2,
   "metadata": {},
   "outputs": [],
   "source": [
    "# 数据库信息\n",
    "mysql_setting = {\n",
    "    'host': '47.100.201.211',\n",
    "    'port': 3306,\n",
    "    'user': 'root',\n",
    "    'passwd': 'iyGfLR64Ne4Ddhk7',\n",
    "    # 数据库名称\n",
    "    'db': 'data',\n",
    "    'charset': 'utf8'\n",
    "}\n",
    "engine = create_engine(\"mysql+pymysql://{user}:{passwd}@{host}:{port}/{db}\".format(**mysql_setting), max_overflow=5)"
   ]
  },
  {
   "cell_type": "code",
   "execution_count": 3,
   "metadata": {},
   "outputs": [],
   "source": [
    "sql_cmd = \"SELECT 时间,市场,当日价格 FROM data.canmi where 市场 like '%合肥%'\"\n",
    "dt = pd.read_sql(sql=sql_cmd, con=engine,parse_dates=0,coerce_float=2)\n",
    "df = dt.loc[dt['市场']=='合肥周谷堆农产品批发市场股份有限公司'].groupby('时间').mean('当日价格')"
   ]
  },
  {
   "cell_type": "code",
   "execution_count": 4,
   "metadata": {},
   "outputs": [],
   "source": [
    "def mov_df(df, num):\n",
    "    df['mov_ori_avg'] = df['orign_price'].transform(lambda x: x.rolling(num).mean())\n",
    "    df['mov_ori_max'] = df['orign_price'].transform(lambda x: x.rolling(num).max())\n",
    "    df['mov_ori_min'] = df['orign_price'].transform(lambda x: x.rolling(num).min())\n",
    "    df['mov_ori_var'] = df['orign_price'].transform(lambda x: x.rolling(num).var())\n",
    "    return df\n",
    "def mov_rate(df):\n",
    "    df['滑窗产地价格波动'] = df['mov_ori_avg'].diff(periods=1)\n",
    "    l1 = df['mov_ori_avg'].tolist()\n",
    "    l2 = df['滑窗产地价格波动'].tolist()\n",
    "    def rate(list1, list2):\n",
    "        l = ['','','','','']\n",
    "        i = 5\n",
    "        while i <= len(list2)-1:\n",
    "            r = list2[i]/list1[i-1]\n",
    "            l.append(r)\n",
    "            i = i + 1\n",
    "        return l\n",
    "    df['滑窗产地价格波动率'] = rate(l1, l2)\n",
    "    df['滑窗产地价格波动率'] = pd.to_numeric(df['滑窗产地价格波动率'])\n",
    "    return df\n",
    "def train(df):\n",
    "    x_train = df.iloc[5:-30,2:]\n",
    "    y_train = df.iloc[5:-30,1]\n",
    "    x_train = x_train.reset_index(drop=True)\n",
    "    y_train = y_train.reset_index(drop=True)\n",
    "    x_predict = df.iloc[-15:,2:]\n",
    "    y_predict = df.iloc[-15:,1]\n",
    "    x_predict = x_predict.reset_index(drop=True)\n",
    "    y_predict = y_predict.reset_index(drop=True)\n",
    "    return [x_train, y_train, x_predict, y_predict]"
   ]
  },
  {
   "cell_type": "code",
   "execution_count": 5,
   "metadata": {},
   "outputs": [],
   "source": [
    "df.reset_index(level=0, inplace=True)\n",
    "df.rename(columns={'时间':'date','当日价格':'orign_price'},inplace=True)\n",
    "mov_df(df, 5)\n",
    "mov_rate(df)\n",
    "x_train = train(df)[0]\n",
    "y_train = train(df)[1]\n",
    "x_predict = train(df)[2]\n",
    "y_predict = train(df)[3]"
   ]
  },
  {
   "cell_type": "code",
   "execution_count": 7,
   "metadata": {},
   "outputs": [],
   "source": [
    "rf = RandomForestRegressor(n_jobs = -1, max_depth = 5)\n",
    "boruta = BorutaPy(\n",
    "   estimator = rf, \n",
    "   n_estimators = 'auto',\n",
    "   max_iter = 100 # number of trials to perform\n",
    ")\n",
    "# 模型训练\n",
    "boruta.fit(np.array(x_train), np.array(y_train))\n",
    "# 输出结果\n",
    "green_area = x_train.columns[boruta.support_].to_list()\n",
    "blue_area  = x_train.columns[boruta.support_weak_].to_list()\n",
    "# 选择最优参数\n",
    "#重新选择特征\n",
    "f = []\n",
    "f.extend(green_area)\n",
    "f.extend(blue_area)\n",
    "x_train = x_train[f]\n",
    "x_predict = x_predict[f]"
   ]
  },
  {
   "cell_type": "code",
   "execution_count": 24,
   "metadata": {},
   "outputs": [
    {
     "name": "stdout",
     "output_type": "stream",
     "text": [
      "Fitting 3 folds for each of 125 candidates, totalling 375 fits\n"
     ]
    },
    {
     "name": "stderr",
     "output_type": "stream",
     "text": [
      "[Parallel(n_jobs=-1)]: Using backend LokyBackend with 16 concurrent workers.\n",
      "[Parallel(n_jobs=-1)]: Done  18 tasks      | elapsed:    3.2s\n",
      "[Parallel(n_jobs=-1)]: Done 168 tasks      | elapsed:    5.2s\n",
      "[Parallel(n_jobs=-1)]: Done 375 out of 375 | elapsed:    7.6s finished\n",
      "D:\\Anaconda\\lib\\site-packages\\xgboost\\data.py:112: UserWarning: Use subset (sliced data) of np.ndarray is not recommended because it will generate extra copies and increase memory consumption\n",
      "  warnings.warn(\n"
     ]
    }
   ],
   "source": [
    "# setup regressor\n",
    "xgb_model = xgb.XGBRegressor() \n",
    "# performance a grid search\n",
    "tweaked_model = GridSearchCV(\n",
    "    xgb_model,   \n",
    "    {\n",
    "        'max_depth':[1,2,5,10,20],\n",
    "        'n_estimators':[20,30,50,70,100],\n",
    "        'learning_rate':[0.1,0.2,0.3,0.4,0.5]\n",
    "    },   \n",
    "    cv = 3,   \n",
    "    verbose = 1,\n",
    "    n_jobs = -1,  \n",
    "    scoring = 'neg_median_absolute_error')\n",
    "tweaked_model.fit(x_train, y_train)\n",
    "model1 = xgb.XGBRegressor(learning_rate = tweaked_model.best_params_['learning_rate'], \n",
    "                          max_depth = tweaked_model.best_params_['max_depth'], \n",
    "                          n_estimators = tweaked_model.best_params_['n_estimators'])\n",
    "model1.fit(x_train,y_train)\n",
    "Y_predict = model1.predict(x_predict).round(2)"
   ]
  },
  {
   "cell_type": "code",
   "execution_count": 25,
   "metadata": {},
   "outputs": [
    {
     "data": {
      "image/png": "[encoded data removed]",
      "text/plain": [
       "<Figure size 432x288 with 1 Axes>"
      ]
     },
     "metadata": {
      "needs_background": "light"
     },
     "output_type": "display_data"
    }
   ],
   "source": [
    "plt.plot(y_predict,color='blue',label='actul')\n",
    "plt.plot(Y_predict,color='red',label='predict')\n",
    "plt.legend(loc='best')\n",
    "plt.title('SVR-RMSE:%.4f'%np.sqrt((sum((Y_predict-y_predict)**2))/len(Y_predict)))\n",
    "plt.show()"
   ]
  },
  {
   "cell_type": "code",
   "execution_count": 14,
   "metadata": {},
   "outputs": [],
   "source": [
    "# Models\n",
    "from sklearn.ensemble import RandomForestRegressor, GradientBoostingRegressor, AdaBoostRegressor, BaggingRegressor\n",
    "from sklearn.kernel_ridge import KernelRidge\n",
    "from sklearn.linear_model import Ridge, RidgeCV\n",
    "from sklearn.linear_model import ElasticNet, ElasticNetCV\n",
    "from sklearn.svm import SVR\n",
    "from mlxtend.regressor import StackingCVRegressor\n",
    "import lightgbm as lgb\n",
    "from lightgbm import LGBMRegressor\n",
    "from xgboost import XGBRegressor\n",
    "\n",
    "# Stats\n",
    "from scipy.stats import skew, norm\n",
    "from scipy.special import boxcox1p\n",
    "from scipy.stats import boxcox_normmax\n",
    "\n",
    "# Misc\n",
    "from sklearn.model_selection import GridSearchCV\n",
    "from sklearn.model_selection import KFold, cross_val_score\n",
    "from sklearn.metrics import mean_squared_error\n",
    "from sklearn.preprocessing import OneHotEncoder\n",
    "from sklearn.preprocessing import LabelEncoder\n",
    "from sklearn.pipeline import make_pipeline\n",
    "from sklearn.preprocessing import scale\n",
    "from sklearn.preprocessing import StandardScaler\n",
    "from sklearn.preprocessing import RobustScaler\n",
    "from sklearn.decomposition import PCA"
   ]
  },
  {
   "cell_type": "code",
   "execution_count": 16,
   "metadata": {},
   "outputs": [],
   "source": [
    "# Light Gradient Boosting Regressor\n",
    "lightgbm = LGBMRegressor(objective='regression', \n",
    "                       num_leaves=6,\n",
    "                       learning_rate=tweaked_model.best_params_['learning_rate'], \n",
    "                       n_estimators=tweaked_model.best_params_['n_estimators'],\n",
    "                        )\n",
    "# Support Vector Regressor\n",
    "svr = make_pipeline(RobustScaler(), SVR(C= 20, epsilon= 0.008, gamma=0.0003))\n",
    "\n",
    "# Random Forest Regressor\n",
    "rf = RandomForestRegressor(n_estimators=tweaked_model.best_params_['n_estimators'],\n",
    "                          max_depth = tweaked_model.best_params_['max_depth'],\n",
    "                        )"
   ]
  },
  {
   "cell_type": "code",
   "execution_count": 22,
   "metadata": {},
   "outputs": [
    {
     "data": {
      "image/png": "[encoded data removed]",
      "text/plain": [
       "<Figure size 432x288 with 1 Axes>"
      ]
     },
     "metadata": {
      "needs_background": "light"
     },
     "output_type": "display_data"
    }
   ],
   "source": [
    "lgb_model_full_data = lightgbm.fit(x_train, y_train)\n",
    "Y_predict = lgb_model_full_data.predict(x_predict).round(2)\n",
    "plt.plot(y_predict,color='blue',label='actul')\n",
    "plt.plot(Y_predict,color='red',label='predict')\n",
    "plt.legend(loc='best')\n",
    "plt.title('LightGBM-RMSE:%.4f'%np.sqrt((sum((Y_predict-y_predict)**2))/len(Y_predict)))\n",
    "plt.show()"
   ]
  },
  {
   "cell_type": "code",
   "execution_count": 21,
   "metadata": {},
   "outputs": [
    {
     "data": {
      "image/png": "[encoded data removed]",
      "text/plain": [
       "<Figure size 432x288 with 1 Axes>"
      ]
     },
     "metadata": {
      "needs_background": "light"
     },
     "output_type": "display_data"
    }
   ],
   "source": [
    "svr_model_full_data = svr.fit(x_train, y_train)\n",
    "Y_predict = svr_model_full_data.predict(x_predict).round(2)\n",
    "plt.plot(y_predict,color='blue',label='actul')\n",
    "plt.plot(Y_predict,color='red',label='predict')\n",
    "plt.legend(loc='best')\n",
    "plt.title('Xgboost-RMSE:%.4f'%np.sqrt((sum((Y_predict-y_predict)**2))/len(Y_predict)))\n",
    "plt.show()"
   ]
  },
  {
   "cell_type": "code",
   "execution_count": 20,
   "metadata": {},
   "outputs": [
    {
     "data": {
      "image/png": "[encoded data removed]",
      "text/plain": [
       "<Figure size 432x288 with 1 Axes>"
      ]
     },
     "metadata": {
      "needs_background": "light"
     },
     "output_type": "display_data"
    }
   ],
   "source": [
    "rf_model_full_data = rf.fit(x_train, y_train)\n",
    "Y_predict = rf_model_full_data.predict(x_predict).round(2)\n",
    "plt.plot(y_predict,color='blue',label='actul')\n",
    "plt.plot(Y_predict,color='red',label='predict')\n",
    "plt.legend(loc='best')\n",
    "plt.title('RandomForest-RMSE:%.4f'%np.sqrt((sum((Y_predict-y_predict)**2))/len(Y_predict)))\n",
    "plt.show()"
   ]
  },
  {
   "cell_type": "code",
   "execution_count": 109,
   "metadata": {},
   "outputs": [],
   "source": [
    "import numpy as np\n",
    "import matplotlib.pyplot as plt\n",
    "import pandas as pd\n",
    "from sklearn import preprocessing\n",
    "from sklearn.metrics import mean_squared_error\n",
    "from math import sqrt\n",
    "from keras.models import Sequential\n",
    "from keras.layers.core import Dense, Dropout, Activation\n",
    "from keras.layers.recurrent import LSTM"
   ]
  },
  {
   "cell_type": "code",
   "execution_count": 111,
   "metadata": {},
   "outputs": [],
   "source": [
    "window=5#时间窗设置\n",
    "#这一部分在处理数据 将原始数据改造为LSTM网络的输入\n",
    "stock=df.iloc[5:,1: ]\n",
    "stock = stock.reset_index(drop=True)\n",
    "order = ['mov_ori_avg','mov_ori_max','mov_ori_min','mov_ori_var','滑窗产地价格波动','滑窗产地价格波动率','orign_price']\n",
    "stock = stock[order]\n",
    "seq_len=window\n",
    "amount_of_features = len(stock.columns)#有几列\n",
    "data = stock.values #pd.DataFrame(stock) 表格转化为矩阵\n",
    "sequence_length = seq_len + 1#序列长度+1\n",
    "result = []\n",
    "for index in range(len(data) - sequence_length):#循环 数据长度-时间窗长度 次\n",
    "    result.append(data[index: index + sequence_length])#第i行到i+5\n",
    "result = np.array(result)#得到样本，样本形式为 window*feanum\n",
    "cut=30#分训练集测试集 最后cut个样本为测试集\n",
    "train = result[:-cut, :]\n",
    "x_train = train[:, :-1]\n",
    "y_train = train[:, -1][:,-1]\n",
    "x_test = result[-15:, :-1]\n",
    "y_test = result[-15:, -1][:,-1]\n",
    "X_train = np.reshape(x_train, (x_train.shape[0], x_train.shape[1], amount_of_features))\n",
    "X_test = np.reshape(x_test, (x_test.shape[0], x_test.shape[1], amount_of_features)) "
   ]
  },
  {
   "cell_type": "code",
   "execution_count": 112,
   "metadata": {},
   "outputs": [
    {
     "name": "stdout",
     "output_type": "stream",
     "text": [
      "X_train (1082, 5, 7)\n",
      "y_train (1082,)\n",
      "X_test (15, 5, 7)\n",
      "y_test (15,)\n"
     ]
    }
   ],
   "source": [
    "#展示下训练集测试集的形状 看有没有问题\n",
    "print(\"X_train\", X_train.shape)\n",
    "print(\"y_train\", y_train.shape)\n",
    "print(\"X_test\", X_test.shape)\n",
    "print(\"y_test\", y_test.shape)"
   ]
  },
  {
   "cell_type": "code",
   "execution_count": 113,
   "metadata": {},
   "outputs": [
    {
     "name": "stdout",
     "output_type": "stream",
     "text": [
      "Epoch 1/100\n",
      "9/9 [==============================] - 3s 10ms/step - loss: 16.7745 - accuracy: 9.2421e-04\n",
      "Epoch 2/100\n",
      "9/9 [==============================] - 0s 10ms/step - loss: 16.7745 - accuracy: 9.2421e-04\n",
      "Epoch 3/100\n",
      "9/9 [==============================] - 0s 10ms/step - loss: 16.7745 - accuracy: 9.2421e-04\n",
      "Epoch 4/100\n",
      "9/9 [==============================] - 0s 9ms/step - loss: 16.7745 - accuracy: 9.2421e-04\n",
      "Epoch 5/100\n",
      "9/9 [==============================] - 0s 9ms/step - loss: 16.7745 - accuracy: 9.2421e-04\n",
      "Epoch 6/100\n",
      "9/9 [==============================] - 0s 9ms/step - loss: 16.7745 - accuracy: 9.2421e-04\n",
      "Epoch 7/100\n",
      "9/9 [==============================] - 0s 9ms/step - loss: 16.7461 - accuracy: 9.2421e-04\n",
      "Epoch 8/100\n",
      "9/9 [==============================] - 0s 9ms/step - loss: 15.6592 - accuracy: 9.2421e-04\n",
      "Epoch 9/100\n",
      "9/9 [==============================] - 0s 9ms/step - loss: 13.0469 - accuracy: 9.2421e-04\n",
      "Epoch 10/100\n",
      "9/9 [==============================] - 0s 9ms/step - loss: 9.9326 - accuracy: 0.0000e+00\n",
      "Epoch 11/100\n",
      "9/9 [==============================] - 0s 9ms/step - loss: 7.0114 - accuracy: 0.0000e+00\n",
      "Epoch 12/100\n",
      "9/9 [==============================] - 0s 9ms/step - loss: 4.8259 - accuracy: 0.0000e+00\n",
      "Epoch 13/100\n",
      "9/9 [==============================] - 0s 9ms/step - loss: 3.4961 - accuracy: 0.0000e+00\n",
      "Epoch 14/100\n",
      "9/9 [==============================] - 0s 9ms/step - loss: 2.6201 - accuracy: 0.0000e+00\n",
      "Epoch 15/100\n",
      "9/9 [==============================] - 0s 9ms/step - loss: 2.0443 - accuracy: 0.0000e+00\n",
      "Epoch 16/100\n",
      "9/9 [==============================] - 0s 9ms/step - loss: 1.6004 - accuracy: 0.0000e+00\n",
      "Epoch 17/100\n",
      "9/9 [==============================] - 0s 8ms/step - loss: 1.2525 - accuracy: 0.0000e+00\n",
      "Epoch 18/100\n",
      "9/9 [==============================] - 0s 9ms/step - loss: 0.9850 - accuracy: 0.0000e+00\n",
      "Epoch 19/100\n",
      "9/9 [==============================] - 0s 9ms/step - loss: 0.7778 - accuracy: 0.0000e+00\n",
      "Epoch 20/100\n",
      "9/9 [==============================] - 0s 9ms/step - loss: 0.6219 - accuracy: 0.0000e+00\n",
      "Epoch 21/100\n",
      "9/9 [==============================] - 0s 9ms/step - loss: 0.5161 - accuracy: 0.0000e+00\n",
      "Epoch 22/100\n",
      "9/9 [==============================] - 0s 9ms/step - loss: 0.4385 - accuracy: 0.0000e+00\n",
      "Epoch 23/100\n",
      "9/9 [==============================] - 0s 9ms/step - loss: 0.3834 - accuracy: 0.0000e+00\n",
      "Epoch 24/100\n",
      "9/9 [==============================] - 0s 9ms/step - loss: 0.3453 - accuracy: 0.0000e+00\n",
      "Epoch 25/100\n",
      "9/9 [==============================] - 0s 9ms/step - loss: 0.3178 - accuracy: 0.0000e+00\n",
      "Epoch 26/100\n",
      "9/9 [==============================] - 0s 9ms/step - loss: 0.3082 - accuracy: 0.0000e+00\n",
      "Epoch 27/100\n",
      "9/9 [==============================] - 0s 9ms/step - loss: 0.2920 - accuracy: 0.0000e+00\n",
      "Epoch 28/100\n",
      "9/9 [==============================] - ETA: 0s - loss: 0.2906 - accuracy: 0.0000e+ - 0s 9ms/step - loss: 0.2925 - accuracy: 0.0000e+00\n",
      "Epoch 29/100\n",
      "9/9 [==============================] - 0s 9ms/step - loss: 0.2829 - accuracy: 0.0000e+00\n",
      "Epoch 30/100\n",
      "9/9 [==============================] - 0s 9ms/step - loss: 0.2831 - accuracy: 0.0000e+00\n",
      "Epoch 31/100\n",
      "9/9 [==============================] - 0s 9ms/step - loss: 0.2883 - accuracy: 0.0000e+00\n",
      "Epoch 32/100\n",
      "9/9 [==============================] - 0s 9ms/step - loss: 0.2843 - accuracy: 0.0000e+00\n",
      "Epoch 33/100\n",
      "9/9 [==============================] - 0s 9ms/step - loss: 0.2787 - accuracy: 0.0000e+00\n",
      "Epoch 34/100\n",
      "9/9 [==============================] - 0s 9ms/step - loss: 0.2826 - accuracy: 0.0000e+00\n",
      "Epoch 35/100\n",
      "9/9 [==============================] - 0s 9ms/step - loss: 0.2833 - accuracy: 0.0000e+00\n",
      "Epoch 36/100\n",
      "9/9 [==============================] - 0s 9ms/step - loss: 0.2863 - accuracy: 0.0000e+00\n",
      "Epoch 37/100\n",
      "9/9 [==============================] - 0s 8ms/step - loss: 0.2831 - accuracy: 0.0000e+00\n",
      "Epoch 38/100\n",
      "9/9 [==============================] - 0s 9ms/step - loss: 0.2831 - accuracy: 0.0000e+00\n",
      "Epoch 39/100\n",
      "9/9 [==============================] - 0s 8ms/step - loss: 0.2907 - accuracy: 0.0000e+00\n",
      "Epoch 40/100\n",
      "9/9 [==============================] - 0s 9ms/step - loss: 0.2809 - accuracy: 0.0000e+00\n",
      "Epoch 41/100\n",
      "9/9 [==============================] - 0s 8ms/step - loss: 0.2867 - accuracy: 0.0000e+00\n",
      "Epoch 42/100\n",
      "9/9 [==============================] - 0s 7ms/step - loss: 0.2865 - accuracy: 0.0000e+00\n",
      "Epoch 43/100\n",
      "9/9 [==============================] - 0s 7ms/step - loss: 0.2862 - accuracy: 0.0000e+00\n",
      "Epoch 44/100\n",
      "9/9 [==============================] - 0s 9ms/step - loss: 0.2784 - accuracy: 0.0000e+00\n",
      "Epoch 45/100\n",
      "9/9 [==============================] - 0s 8ms/step - loss: 0.2854 - accuracy: 0.0000e+00\n",
      "Epoch 46/100\n",
      "9/9 [==============================] - 0s 9ms/step - loss: 0.2845 - accuracy: 0.0000e+00\n",
      "Epoch 47/100\n",
      "9/9 [==============================] - 0s 9ms/step - loss: 0.2813 - accuracy: 0.0000e+00\n",
      "Epoch 48/100\n",
      "9/9 [==============================] - 0s 9ms/step - loss: 0.2818 - accuracy: 0.0000e+00\n",
      "Epoch 49/100\n",
      "9/9 [==============================] - 0s 9ms/step - loss: 0.2798 - accuracy: 0.0000e+00\n",
      "Epoch 50/100\n",
      "9/9 [==============================] - 0s 9ms/step - loss: 0.2851 - accuracy: 0.0000e+00\n",
      "Epoch 51/100\n",
      "9/9 [==============================] - 0s 9ms/step - loss: 0.2865 - accuracy: 0.0000e+00\n",
      "Epoch 52/100\n",
      "9/9 [==============================] - 0s 10ms/step - loss: 0.2858 - accuracy: 0.0000e+00\n",
      "Epoch 53/100\n",
      "9/9 [==============================] - 0s 9ms/step - loss: 0.2844 - accuracy: 0.0000e+00\n",
      "Epoch 54/100\n",
      "9/9 [==============================] - 0s 9ms/step - loss: 0.2807 - accuracy: 0.0000e+00\n",
      "Epoch 55/100\n",
      "9/9 [==============================] - 0s 9ms/step - loss: 0.2818 - accuracy: 0.0000e+00\n",
      "Epoch 56/100\n",
      "9/9 [==============================] - 0s 9ms/step - loss: 0.2891 - accuracy: 0.0000e+00\n",
      "Epoch 57/100\n",
      "9/9 [==============================] - 0s 9ms/step - loss: 0.2905 - accuracy: 0.0000e+00\n",
      "Epoch 58/100\n",
      "9/9 [==============================] - 0s 9ms/step - loss: 0.2820 - accuracy: 0.0000e+00\n",
      "Epoch 59/100\n",
      "9/9 [==============================] - 0s 9ms/step - loss: 0.2841 - accuracy: 0.0000e+00\n",
      "Epoch 60/100\n",
      "9/9 [==============================] - 0s 9ms/step - loss: 0.2833 - accuracy: 0.0000e+00\n",
      "Epoch 61/100\n",
      "9/9 [==============================] - 0s 9ms/step - loss: 0.2875 - accuracy: 0.0000e+00\n",
      "Epoch 62/100\n",
      "9/9 [==============================] - 0s 9ms/step - loss: 0.2876 - accuracy: 0.0000e+00\n",
      "Epoch 63/100\n",
      "9/9 [==============================] - 0s 9ms/step - loss: 0.2899 - accuracy: 0.0000e+00\n",
      "Epoch 64/100\n",
      "9/9 [==============================] - 0s 9ms/step - loss: 0.2846 - accuracy: 0.0000e+00\n",
      "Epoch 65/100\n",
      "9/9 [==============================] - 0s 9ms/step - loss: 0.2847 - accuracy: 0.0000e+00\n",
      "Epoch 66/100\n",
      "9/9 [==============================] - 0s 9ms/step - loss: 0.2818 - accuracy: 0.0000e+00\n",
      "Epoch 67/100\n",
      "9/9 [==============================] - 0s 9ms/step - loss: 0.2777 - accuracy: 0.0000e+00\n",
      "Epoch 68/100\n",
      "9/9 [==============================] - 0s 9ms/step - loss: 0.2825 - accuracy: 0.0000e+00\n",
      "Epoch 69/100\n",
      "9/9 [==============================] - 0s 9ms/step - loss: 0.2829 - accuracy: 0.0000e+00\n",
      "Epoch 70/100\n",
      "9/9 [==============================] - 0s 9ms/step - loss: 0.2814 - accuracy: 0.0000e+00\n",
      "Epoch 71/100\n",
      "9/9 [==============================] - 0s 9ms/step - loss: 0.2754 - accuracy: 0.0000e+00\n",
      "Epoch 72/100\n",
      "9/9 [==============================] - 0s 9ms/step - loss: 0.2857 - accuracy: 0.0000e+00\n",
      "Epoch 73/100\n",
      "9/9 [==============================] - 0s 9ms/step - loss: 0.2899 - accuracy: 0.0000e+00\n",
      "Epoch 74/100\n",
      "9/9 [==============================] - 0s 9ms/step - loss: 0.2819 - accuracy: 0.0000e+00\n",
      "Epoch 75/100\n",
      "9/9 [==============================] - 0s 8ms/step - loss: 0.2838 - accuracy: 0.0000e+00\n",
      "Epoch 76/100\n",
      "9/9 [==============================] - 0s 7ms/step - loss: 0.2799 - accuracy: 0.0000e+00\n",
      "Epoch 77/100\n",
      "9/9 [==============================] - 0s 9ms/step - loss: 0.2867 - accuracy: 0.0000e+00\n",
      "Epoch 78/100\n",
      "9/9 [==============================] - 0s 9ms/step - loss: 0.2806 - accuracy: 0.0000e+00\n",
      "Epoch 79/100\n",
      "9/9 [==============================] - 0s 8ms/step - loss: 0.2820 - accuracy: 0.0000e+00\n",
      "Epoch 80/100\n"
     ]
    },
    {
     "name": "stdout",
     "output_type": "stream",
     "text": [
      "9/9 [==============================] - 0s 9ms/step - loss: 0.2829 - accuracy: 0.0000e+00\n",
      "Epoch 81/100\n",
      "9/9 [==============================] - 0s 8ms/step - loss: 0.2773 - accuracy: 0.0000e+00\n",
      "Epoch 82/100\n",
      "9/9 [==============================] - 0s 8ms/step - loss: 0.2876 - accuracy: 0.0000e+00\n",
      "Epoch 83/100\n",
      "9/9 [==============================] - 0s 8ms/step - loss: 0.2824 - accuracy: 0.0000e+00\n",
      "Epoch 84/100\n",
      "9/9 [==============================] - 0s 9ms/step - loss: 0.2855 - accuracy: 0.0000e+00\n",
      "Epoch 85/100\n",
      "9/9 [==============================] - 0s 9ms/step - loss: 0.2840 - accuracy: 0.0000e+00\n",
      "Epoch 86/100\n",
      "9/9 [==============================] - 0s 9ms/step - loss: 0.2860 - accuracy: 0.0000e+00\n",
      "Epoch 87/100\n",
      "9/9 [==============================] - 0s 9ms/step - loss: 0.2794 - accuracy: 0.0000e+00\n",
      "Epoch 88/100\n",
      "9/9 [==============================] - 0s 9ms/step - loss: 0.2882 - accuracy: 0.0000e+00\n",
      "Epoch 89/100\n",
      "9/9 [==============================] - 0s 10ms/step - loss: 0.2825 - accuracy: 0.0000e+00\n",
      "Epoch 90/100\n",
      "9/9 [==============================] - 0s 9ms/step - loss: 0.2830 - accuracy: 0.0000e+00\n",
      "Epoch 91/100\n",
      "9/9 [==============================] - 0s 9ms/step - loss: 0.2871 - accuracy: 0.0000e+00\n",
      "Epoch 92/100\n",
      "9/9 [==============================] - 0s 9ms/step - loss: 0.2857 - accuracy: 0.0000e+00\n",
      "Epoch 93/100\n",
      "9/9 [==============================] - 0s 9ms/step - loss: 0.2817 - accuracy: 0.0000e+00\n",
      "Epoch 94/100\n",
      "9/9 [==============================] - 0s 9ms/step - loss: 0.2793 - accuracy: 0.0000e+00\n",
      "Epoch 95/100\n",
      "9/9 [==============================] - 0s 9ms/step - loss: 0.2813 - accuracy: 0.0000e+00\n",
      "Epoch 96/100\n",
      "9/9 [==============================] - 0s 9ms/step - loss: 0.2872 - accuracy: 0.0000e+00\n",
      "Epoch 97/100\n",
      "9/9 [==============================] - 0s 9ms/step - loss: 0.2836 - accuracy: 0.0000e+00\n",
      "Epoch 98/100\n",
      "9/9 [==============================] - 0s 9ms/step - loss: 0.2859 - accuracy: 0.0000e+00\n",
      "Epoch 99/100\n",
      "9/9 [==============================] - 0s 9ms/step - loss: 0.2783 - accuracy: 0.0000e+00\n",
      "Epoch 100/100\n",
      "9/9 [==============================] - 0s 9ms/step - loss: 0.2881 - accuracy: 0.0000e+00\n"
     ]
    },
    {
     "data": {
      "text/plain": [
       "<keras.callbacks.History at 0x256ff66c700>"
      ]
     },
     "execution_count": 113,
     "metadata": {},
     "output_type": "execute_result"
    }
   ],
   "source": [
    "#建立、训练模型过程\n",
    "d = 0.01\n",
    "model = Sequential()#建立层次模型\n",
    "model.add(LSTM(32, input_shape=(window, amount_of_features), return_sequences=True))#建立LSTM层\n",
    "model.add(Dropout(d))#建立的遗忘层\n",
    "model.add(LSTM(16, input_shape=(window, amount_of_features), return_sequences=False))#建立LSTM层\n",
    "model.add(Dropout(d))#建立的遗忘层\n",
    "model.add(Dense(2,activation='relu'))   #建立全连接层     \n",
    "model.add(Dense(1,activation='relu'))\n",
    "model.compile(loss='mse',optimizer='adam',metrics=['accuracy'])\n",
    "model.fit(X_train, y_train, epochs =100, batch_size = 128) #训练模型nb_epoch次"
   ]
  },
  {
   "cell_type": "code",
   "execution_count": 116,
   "metadata": {},
   "outputs": [
    {
     "data": {
      "image/png": "[encoded data removed]",
      "text/plain": [
       "<Figure size 432x288 with 1 Axes>"
      ]
     },
     "metadata": {
      "needs_background": "light"
     },
     "output_type": "display_data"
    }
   ],
   "source": [
    "#在训练集上的拟合结果\n",
    "Y_predict=model.predict(X_test)[:,0]\n",
    "plt.plot(y_predict,color='blue',label='actul')\n",
    "plt.plot(Y_predict,color='red',label='predict')\n",
    "plt.legend(loc='best')\n",
    "plt.title('LSTM-RMSE:%.4f'%np.sqrt((sum((Y_predict-y_predict)**2))/len(Y_predict)))\n",
    "plt.show()"
   ]
  },
  {
   "cell_type": "code",
   "execution_count": null,
   "metadata": {},
   "outputs": [],
   "source": []
  }
 ],
 "metadata": {
  "kernelspec": {
   "display_name": "Python 3",
   "language": "python",
   "name": "python3"
  },
  "language_info": {
   "codemirror_mode": {
    "name": "ipython",
    "version": 3
   },
   "file_extension": ".py",
   "mimetype": "text/x-python",
   "name": "python",
   "nbconvert_exporter": "python",
   "pygments_lexer": "ipython3",
   "version": "3.8.5"
  }
 },
 "nbformat": 4,
 "nbformat_minor": 4
}
