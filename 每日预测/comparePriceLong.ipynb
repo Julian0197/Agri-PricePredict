{
 "cells": [
  {
   "cell_type": "code",
   "execution_count": 6,
   "metadata": {},
   "outputs": [],
   "source": [
    "import pandas as pd\n",
    "import numpy as np\n",
    "import re\n",
    "import pymysql\n",
    "import datetime\n",
    "from datetime import timedelta\n",
    "from sqlalchemy import create_engine"
   ]
  },
  {
   "cell_type": "code",
   "execution_count": 3,
   "metadata": {},
   "outputs": [],
   "source": [
    "# 数据库信息\n",
    "mysql_setting = {\n",
    "    'host': '47.100.201.211',\n",
    "    'port': 3306,\n",
    "    'user': 'root',\n",
    "    'passwd': 'iyGfLR64Ne4Ddhk7',\n",
    "    # 数据库名称\n",
    "    'db': 'data',\n",
    "    'charset': 'utf8'\n",
    "}\n",
    "engine = create_engine(\"mysql+pymysql://{user}:{passwd}@{host}:{port}/{db}\".format(**mysql_setting), max_overflow=5)"
   ]
  },
  {
   "cell_type": "markdown",
   "metadata": {},
   "source": [
    "# getRealPrice"
   ]
  },
  {
   "cell_type": "code",
   "execution_count": 17,
   "metadata": {},
   "outputs": [],
   "source": [
    "# 填充缺失价格，去重重复天数价格\n",
    "def fillPrice(df):\n",
    "    # datetime.strptime() 把datetime转化为str格式\n",
    "    df['updateTime'] = df['updateTime'].apply(lambda x: x.strftime('%Y-%m-%d'))\n",
    "    date_start = df['updateTime'].min()\n",
    "    date_end = datetime.datetime.now().strftime('%Y-%m-%d')\n",
    "    #根据最小日期和最大日期，计算日期间隔，由于date_start和date_end为string类型，因此需要先更改为日期类型\n",
    "    delta = datetime.datetime.strptime(date_end, \"%Y-%m-%d\")-datetime.datetime.strptime(str(date_start), \"%Y-%m-%d\")\n",
    "    for i in range(1,delta.days+1):\n",
    "        date = (datetime.datetime.strptime(date_end, \"%Y-%m-%d\")-datetime.timedelta(days=i)).strftime('%Y-%m-%d')\n",
    "        #如果数据缺失，则补数\n",
    "        if(date not in df['updateTime'].values):\n",
    "            new_date = pd.DataFrame({'updateTime':date,'dayPrice':np.nan}, index=[0])\n",
    "            df = df.append(new_date)\n",
    "    df.sort_values(by=\"updateTime\", inplace=True, ascending=True) \n",
    "    df['dayPrice'] = df['dayPrice'].fillna(df['dayPrice'].interpolate().round(2))\n",
    "    df['updateTime'] = pd.to_datetime(df['updateTime'])\n",
    "    df['updateTime'] = df['updateTime'].dt.strftime(\"%Y-%m\")\n",
    "    df = df.groupby('updateTime').mean('dayPrice').round(2)\n",
    "    df.reset_index(level=0, inplace=True)\n",
    "    return df"
   ]
  },
  {
   "cell_type": "code",
   "execution_count": 18,
   "metadata": {},
   "outputs": [],
   "source": [
    "def getRealPrice(product, url, w):\n",
    "    if ('jd' in url):\n",
    "        sql_cmd = \"SELECT updateTime, dayPrice FROM data.jingdong_day_price_nineCounty where commodityUrl = %(url)s\"\n",
    "    else:\n",
    "        sql_cmd = \"SELECT updateTime, dayPrice FROM data.tianmao_day_price_nineCounty where commodityId = %(url)s\"\n",
    "    df = pd.read_sql(sql_cmd, engine, params={'url': url})\n",
    "    df.drop(index=df[df['dayPrice']<=0].index,inplace=True)\n",
    "    df.drop_duplicates(subset='updateTime', keep='last', inplace=True)\n",
    "    df = fillPrice(df)\n",
    "    df['dayPrice'] = df['dayPrice'].apply(lambda x: (x / w))\n",
    "    df['dayPrice'] = df['dayPrice'].round(2)\n",
    "    df['product'] = product\n",
    "    df.rename(columns={'dayPrice': 'real_price', 'updateTime': 'date'}, inplace=True)\n",
    "    newIndex = ['product', 'date', 'real_price']\n",
    "    df = df[newIndex]\n",
    "    return df"
   ]
  },
  {
   "cell_type": "code",
   "execution_count": 19,
   "metadata": {},
   "outputs": [],
   "source": [
    "result = engine.execute('TRUNCATE TABLE data.price_real_long')\n",
    "data = pd.read_csv('allProduct.csv', encoding='utf-8')\n",
    "for row in data.iterrows():\n",
    "    try:\n",
    "        table = getRealPrice(row[1]['product'], row[1]['url'], row[1]['weight'])\n",
    "        table.to_sql('price_real_long', con= engine, if_exists= 'append', index=False)\n",
    "    except:\n",
    "        print(row[1]['product'])"
   ]
  },
  {
   "cell_type": "code",
   "execution_count": 8,
   "metadata": {},
   "outputs": [
    {
     "ename": "AttributeError",
     "evalue": "'str' object has no attribute 'length'",
     "output_type": "error",
     "traceback": [
      "\u001b[1;31m---------------------------------------------------------------------------\u001b[0m",
      "\u001b[1;31mAttributeError\u001b[0m                            Traceback (most recent call last)",
      "\u001b[1;32m<ipython-input-8-2a697db94be9>\u001b[0m in \u001b[0;36m<module>\u001b[1;34m\u001b[0m\n\u001b[0;32m      2\u001b[0m \u001b[0mdd\u001b[0m \u001b[1;33m=\u001b[0m \u001b[1;34m\"2022-11\"\u001b[0m\u001b[1;33m\u001b[0m\u001b[1;33m\u001b[0m\u001b[0m\n\u001b[0;32m      3\u001b[0m \u001b[1;33m\u001b[0m\u001b[0m\n\u001b[1;32m----> 4\u001b[1;33m \u001b[0mdd\u001b[0m\u001b[1;33m.\u001b[0m\u001b[0mlength\u001b[0m\u001b[1;33m(\u001b[0m\u001b[1;33m)\u001b[0m\u001b[1;33m\u001b[0m\u001b[1;33m\u001b[0m\u001b[0m\n\u001b[0m",
      "\u001b[1;31mAttributeError\u001b[0m: 'str' object has no attribute 'length'"
     ]
    }
   ],
   "source": [
    "cc = \"2022-08-11\"\n",
    "dd = \"2022-11\"\n",
    "\n",
    "dd.length()"
   ]
  },
  {
   "cell_type": "code",
   "execution_count": 5,
   "metadata": {},
   "outputs": [
    {
     "data": {
      "text/html": [
       "<div>\n",
       "<style scoped>\n",
       "    .dataframe tbody tr th:only-of-type {\n",
       "        vertical-align: middle;\n",
       "    }\n",
       "\n",
       "    .dataframe tbody tr th {\n",
       "        vertical-align: top;\n",
       "    }\n",
       "\n",
       "    .dataframe thead th {\n",
       "        text-align: right;\n",
       "    }\n",
       "</style>\n",
       "<table border=\"1\" class=\"dataframe\">\n",
       "  <thead>\n",
       "    <tr style=\"text-align: right;\">\n",
       "      <th></th>\n",
       "      <th>product</th>\n",
       "      <th>date</th>\n",
       "      <th>real_price</th>\n",
       "    </tr>\n",
       "  </thead>\n",
       "  <tbody>\n",
       "    <tr>\n",
       "      <th>0</th>\n",
       "      <td>奉新大米</td>\n",
       "      <td>2022-04</td>\n",
       "      <td>6.800</td>\n",
       "    </tr>\n",
       "    <tr>\n",
       "      <th>1</th>\n",
       "      <td>奉新大米</td>\n",
       "      <td>2022-05</td>\n",
       "      <td>6.800</td>\n",
       "    </tr>\n",
       "    <tr>\n",
       "      <th>2</th>\n",
       "      <td>奉新大米</td>\n",
       "      <td>2022-06</td>\n",
       "      <td>6.800</td>\n",
       "    </tr>\n",
       "    <tr>\n",
       "      <th>3</th>\n",
       "      <td>奉新大米</td>\n",
       "      <td>2022-07</td>\n",
       "      <td>6.800</td>\n",
       "    </tr>\n",
       "    <tr>\n",
       "      <th>4</th>\n",
       "      <td>奉新大米</td>\n",
       "      <td>2022-08</td>\n",
       "      <td>11.422</td>\n",
       "    </tr>\n",
       "  </tbody>\n",
       "</table>\n",
       "</div>"
      ],
      "text/plain": [
       "  product     date  real_price\n",
       "0    奉新大米  2022-04       6.800\n",
       "1    奉新大米  2022-05       6.800\n",
       "2    奉新大米  2022-06       6.800\n",
       "3    奉新大米  2022-07       6.800\n",
       "4    奉新大米  2022-08      11.422"
      ]
     },
     "execution_count": 5,
     "metadata": {},
     "output_type": "execute_result"
    }
   ],
   "source": [
    "# aa = getRealPrice('奉新大米', 'https://detail.tmall.com/item.htm?spm=a230r.1.14.16.25333797FZSHM9&id=610942185103&ns=1&abbucket=5', 10)\n",
    "# aa"
   ]
  },
  {
   "cell_type": "markdown",
   "metadata": {},
   "source": [
    "# comparePrice"
   ]
  },
  {
   "cell_type": "code",
   "execution_count": 5,
   "metadata": {},
   "outputs": [],
   "source": [
    "# 清空price_real_predict_compare_short表\n",
    "# def comparePrice(product):\n",
    "#     month = datetime.datetime.now().strftime('%Y-%m')\n",
    "#     sql_cmd = \"SELECT * FROM price_real_long where product = %(product)s\"\n",
    "#     aa = pd.read_sql(sql_cmd, engine, params={'product': product})\n",
    "#     sql_cmd = \"SELECT * FROM price_predict_long where product = %(product)s and date = %(month)s\"\n",
    "#     bb = pd.read_sql(sql_cmd, engine, params={'product': product, 'month': month})\n",
    "#     bb.drop(columns='date', inplace = True)\n",
    "#     bb.rename(columns={'predict_date': 'date'}, inplace=True)\n",
    "#     compareP = pd.merge(aa, bb, on=['product','date'], how='outer')\n",
    "#     compareP['predict_price'] = compareP['predict_price'].round(2)\n",
    "#     compareP['real_price'] = compareP['real_price'].round(2)\n",
    "#     return compareP\n",
    "# result = engine.execute('TRUNCATE TABLE data.price_real_predict_compare_long')\n",
    "# data = pd.read_csv('allProduct.csv', encoding='utf-8')\n",
    "# for row in data.iterrows():\n",
    "#     try:\n",
    "#         table = comparePrice(row[1]['product'])\n",
    "#         table.to_sql('price_real_predict_compare_long', con= engine, if_exists= 'append', index=False)\n",
    "#     except:\n",
    "#         print(row[1]['product'])"
   ]
  },
  {
   "cell_type": "code",
   "execution_count": 10,
   "metadata": {},
   "outputs": [],
   "source": [
    "# def insertNew(product):\n",
    "#     sql_cmd = \"SELECT * FROM price_real_predict_compare_short where product = %(product)s\"\n",
    "#     aa = pd.read_sql(sql_cmd, engine, params={'product': product})\n",
    "#     # 获取当天时间\n",
    "#     lastday = datetime.datetime.now().strftime('%Y-%m-%d')\n",
    "#     day = datetime.datetime.date(datetime.datetime.strptime(lastday, \"%Y-%m-%d\"))\n",
    "    \n",
    "#     sql_cmd = \"SELECT * FROM price_real_short where product = %(product)s and date = %(date)s\"\n",
    "#     rr = pd.read_sql(sql_cmd, engine, params={'product': product, 'date': lastday})\n",
    "#     aa.loc[aa['date']==day, 'real_price'] = rr['real_price'].values[0]\n",
    "    \n",
    "#     # 获取当天的实际价格\n",
    "#     params = {'price': rr['real_price'].values[0], 'product': product, 'day': lastday}\n",
    "#     sql_cmd = \"UPDATE price_real_predict_compare_short SET real_price = %(price)s WHERE product = %(product)s and date = %(day)s \"\n",
    "#     res = engine.execute(sql_cmd, params)\n",
    "    \n",
    "#     # 获取最新预测的价格，并且和之前的价格表进行concat上下连接\n",
    "#     new = (datetime.datetime.now() + datetime.timedelta(days=14)).strftime('%Y-%m-%d')\n",
    "#     sql_cmd = \"SELECT * FROM price_predict_short where product = %(product)s and predict_date = %(day)s\"\n",
    "#     bb = pd.read_sql(sql_cmd, engine, params={'product': product, 'day': new})\n",
    "#     bb.drop(columns='date', inplace = True)\n",
    "#     bb.rename(columns={'predict_date': 'date'}, inplace=True)\n",
    "#     cc = pd.concat([aa,bb])\n",
    "#     return cc[-1:]"
   ]
  },
  {
   "cell_type": "code",
   "execution_count": 11,
   "metadata": {},
   "outputs": [
    {
     "name": "stdout",
     "output_type": "stream",
     "text": [
      "四川宜宾屏山茵红李\n",
      "贵州镇宁蜂糖李\n"
     ]
    }
   ],
   "source": [
    "# data = pd.read_csv('allProduct.csv', encoding='utf-8')\n",
    "# for row in data.iterrows():\n",
    "#     try:\n",
    "#         table = insertNew(row[1]['product'])\n",
    "#         table.to_sql('price_real_predict_compare_short', con= engine, if_exists= 'append', index=False)\n",
    "        \n",
    "#     except:\n",
    "#         print(row[1]['product'])"
   ]
  },
  {
   "cell_type": "code",
   "execution_count": null,
   "metadata": {},
   "outputs": [],
   "source": []
  }
 ],
 "metadata": {
  "kernelspec": {
   "display_name": "Python 3",
   "language": "python",
   "name": "python3"
  },
  "language_info": {
   "codemirror_mode": {
    "name": "ipython",
    "version": 3
   },
   "file_extension": ".py",
   "mimetype": "text/x-python",
   "name": "python",
   "nbconvert_exporter": "python",
   "pygments_lexer": "ipython3",
   "version": "3.8.5"
  }
 },
 "nbformat": 4,
 "nbformat_minor": 4
}
